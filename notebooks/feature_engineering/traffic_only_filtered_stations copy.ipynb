{
 "cells": [
  {
   "cell_type": "code",
   "execution_count": 37,
   "metadata": {},
   "outputs": [],
   "source": [
    "import pandas as pd\n",
    "from tqdm import tqdm\n",
    "import os"
   ]
  },
  {
   "cell_type": "code",
   "execution_count": 38,
   "metadata": {},
   "outputs": [],
   "source": [
    "df_mapping_no2_to_traffico = pd.read_csv(\"../../data/processed/mapping/no2_to_traffic_sensor_mapping.csv\")"
   ]
  },
  {
   "cell_type": "code",
   "execution_count": 39,
   "metadata": {},
   "outputs": [],
   "source": [
    "import pandas as pd\n",
    "from tqdm import tqdm\n",
    "\n",
    "def process_traffic_data(df_traffic):\n",
    "    \"\"\"\n",
    "    Función para procesar datos de tráfico a nivel horario a partir de datos cada 15 minutos.\n",
    "    \n",
    "    Se agrupan los datos por sensor y hora, calculando:\n",
    "    - **Intensidad**: Promedio de la intensidad (vehículos/hora).\n",
    "    - **Carga**: Promedio ponderado de la carga, usando la intensidad como peso.\n",
    "    - **Ocupación**: Promedio ponderado de la ocupación, usando la intensidad como peso.\n",
    "    - **Velocidad media (vmed)**: Promedio ponderado de la velocidad media, usando la intensidad como peso.\n",
    "\n",
    "    Parámetros:\n",
    "        df_traffic (pd.DataFrame): DataFrame con datos de tráfico a nivel de 15 minutos.\n",
    "\n",
    "    Retorna:\n",
    "        pd.DataFrame: DataFrame con los datos agregados a nivel horario.\n",
    "    \"\"\"\n",
    "\n",
    "    # Convertir la columna 'fecha' a tipo datetime para manipulación de fechas\n",
    "    df_traffic['fecha'] = pd.to_datetime(df_traffic['fecha'])\n",
    "\n",
    "    # Redondear la fecha a la hora más cercana (para agrupar los datos por hora)\n",
    "    df_traffic['hora'] = df_traffic['fecha'].dt.floor('H')\n",
    "\n",
    "    # Rellenar valores NaN con -1 para evitar problemas en cálculos posteriores\n",
    "    df_traffic = df_traffic.fillna(-1)\n",
    "\n",
    "    # Función para calcular un promedio ponderado\n",
    "    def weighted_average(group, value_column, weight_column):\n",
    "        \"\"\"\n",
    "        Calcula la media ponderada de una columna usando otra como peso.\n",
    "\n",
    "        Parámetros:\n",
    "            group (pd.DataFrame): Grupo de datos a procesar.\n",
    "            value_column (str): Nombre de la columna cuyo promedio ponderado se calcula.\n",
    "            weight_column (str): Nombre de la columna que se usa como peso.\n",
    "\n",
    "        Retorna:\n",
    "            float: Media ponderada.\n",
    "        \"\"\"\n",
    "        values = group[value_column]\n",
    "        weights = group[weight_column]\n",
    "        \n",
    "        # Si la suma de los pesos es mayor a 0, se calcula la media ponderada, si no, se devuelve 0\n",
    "        weighted_avg = (values * weights).sum() / weights.sum() if weights.sum() > 0 else 0\n",
    "        return weighted_avg\n",
    "\n",
    "    # Agrupar los datos por sensor y hora\n",
    "    grouped = df_traffic.groupby(['id_trafico', 'hora'])\n",
    "\n",
    "    # Lista para almacenar los resultados procesados\n",
    "    result = []\n",
    "\n",
    "    # Procesar cada grupo de sensor y hora\n",
    "    for name, group in tqdm(grouped, desc=\"Processing groups\"):\n",
    "        \"\"\"\n",
    "        Para cada grupo (es decir, cada sensor en cada hora):\n",
    "        - Se calcula la **intensidad** como promedio de la intensidad en los 4 intervalos de 15 minutos.\n",
    "        - Se calcula la **carga** como un promedio ponderado de los valores de carga usando intensidad como peso.\n",
    "        - Se calcula la **ocupación** como un promedio ponderado usando la intensidad como peso.\n",
    "        - Se calcula la **velocidad media (vmed)** como un promedio ponderado usando la intensidad como peso.\n",
    "        \"\"\"\n",
    "\n",
    "        # Intensidad: Como ya está en vehículos/hora, tomamos el promedio, no la suma\n",
    "        intensidad_mean = group['intensidad'].mean()\n",
    "\n",
    "        # Carga: Media ponderada con intensidad como peso\n",
    "        carga_mean = weighted_average(group, 'carga', 'intensidad')\n",
    "\n",
    "        # Ocupación: Media ponderada con intensidad como peso (no se puede sumar porque es un porcentaje)\n",
    "        ocupacion_mean = weighted_average(group, 'ocupacion', 'intensidad')\n",
    "\n",
    "        # Velocidad media: Media ponderada con intensidad como peso\n",
    "        vmed_weighted = weighted_average(group, 'vmed', 'intensidad')\n",
    "\n",
    "        # Agregar los resultados procesados a la lista\n",
    "        result.append({\n",
    "            'id_trafico': name[0],   # ID del sensor de tráfico\n",
    "            'hora': name[1],         # Hora agregada\n",
    "            'intensidad': intensidad_mean,  # Promedio de intensidad (veh/h)\n",
    "            'carga': carga_mean,           # Promedio ponderado de carga\n",
    "            'ocupacion': ocupacion_mean,   # Promedio ponderado de ocupación\n",
    "            'vmed': vmed_weighted          # Promedio ponderado de velocidad media\n",
    "        })\n",
    "\n",
    "    # Convertir la lista de resultados en un DataFrame\n",
    "    df_traffic = pd.DataFrame(result)\n",
    "\n",
    "    return df_traffic  # Retornar el DataFrame procesado\n"
   ]
  },
  {
   "cell_type": "code",
   "execution_count": 40,
   "metadata": {},
   "outputs": [],
   "source": [
    "def corregir_errores(df):\n",
    "    # Asegurarse de que 'fecha' sea de tipo datetime\n",
    "    \n",
    "    # Iterar por las filas donde 'error' es 'S'\n",
    "    for index, row in df[df['error'] == 'S'].iterrows():\n",
    "        # Inicializar el contador de minutos\n",
    "        minutos_atras = 15\n",
    "        \n",
    "        try:\n",
    "            while True:\n",
    "                # Buscar la fila anterior con el mismo 'id_trafico' y 'error' diferente de 'S'\n",
    "                fila_anterior = df[\n",
    "                    (df['id_trafico'] == row['id_trafico']) & \n",
    "                    (df['fecha'] == row['fecha'] - pd.Timedelta(minutes=minutos_atras))\n",
    "                ]\n",
    "                \n",
    "                if not fila_anterior.empty and fila_anterior.iloc[0]['error'] != 'S':\n",
    "                    # Copiar los valores de la fila anterior en la fila con error\n",
    "                    for col in ['intensidad', 'ocupacion', 'carga', 'vmed', 'periodo_integracion']:\n",
    "                        df.at[index, col] = fila_anterior.iloc[0][col]\n",
    "                    \n",
    "                    # Ajustar el error a 'N' después de la corrección\n",
    "                    df.at[index, 'error'] = 'N'\n",
    "                    break  # Salir del bucle si se ha encontrado una fila válida\n",
    "                \n",
    "                # Incrementar el contador de minutos para buscar más atrás\n",
    "                minutos_atras += 15\n",
    "                \n",
    "                # Si se han buscado más de un número razonable de filas, salir para evitar bucles infinitos\n",
    "                if minutos_atras > 180:  # Por ejemplo, buscar hasta 3 horas atrás\n",
    "                    break\n",
    "        except:\n",
    "            df.at[index, col] = -1\n",
    "        \n",
    "    return df"
   ]
  },
  {
   "cell_type": "code",
   "execution_count": 41,
   "metadata": {},
   "outputs": [],
   "source": [
    "df_mapping_no2_to_traffico['id_trafico'] = df_mapping_no2_to_traffico['id_trafico'].astype(int).astype(str)\n",
    "filtered_traffic_sensors = list(df_mapping_no2_to_traffico.id_trafico.unique())"
   ]
  },
  {
   "cell_type": "code",
   "execution_count": 45,
   "metadata": {},
   "outputs": [
    {
     "data": {
      "text/plain": [
       "69"
      ]
     },
     "execution_count": 45,
     "metadata": {},
     "output_type": "execute_result"
    }
   ],
   "source": [
    "len(filtered_traffic_sensors)"
   ]
  },
  {
   "cell_type": "code",
   "execution_count": 46,
   "metadata": {},
   "outputs": [
    {
     "name": "stdout",
     "output_type": "stream",
     "text": [
      "Processing folder: ../../data/raw/traffic/2019\n",
      "len df before filtering  11203627\n",
      "Unique traffic sensors before filtering: 3937\n",
      "len df after filtering  154550\n",
      "Unique traffic sensors after filtering: 53\n"
     ]
    },
    {
     "name": "stderr",
     "output_type": "stream",
     "text": [
      "/var/folders/kc/t6c9n8gj7mbblj0w7sy3ykwm0000gn/T/ipykernel_17468/3807989780.py:25: FutureWarning: 'H' is deprecated and will be removed in a future version, please use 'h' instead.\n",
      "  df_traffic['hora'] = df_traffic['fecha'].dt.floor('H')\n",
      "Processing groups: 100%|██████████| 38852/38852 [00:05<00:00, 7385.96it/s]\n"
     ]
    },
    {
     "name": "stdout",
     "output_type": "stream",
     "text": [
      "Processed and saved: ../../data/processed/traffic/2019/01-2019_processed.parquet\n",
      "len df before filtering  11252731\n",
      "Unique traffic sensors before filtering: 3998\n",
      "len df after filtering  149099\n",
      "Unique traffic sensors after filtering: 53\n"
     ]
    },
    {
     "name": "stderr",
     "output_type": "stream",
     "text": [
      "/var/folders/kc/t6c9n8gj7mbblj0w7sy3ykwm0000gn/T/ipykernel_17468/3807989780.py:25: FutureWarning: 'H' is deprecated and will be removed in a future version, please use 'h' instead.\n",
      "  df_traffic['hora'] = df_traffic['fecha'].dt.floor('H')\n",
      "Processing groups: 100%|██████████| 37438/37438 [00:05<00:00, 7185.90it/s]\n"
     ]
    },
    {
     "name": "stdout",
     "output_type": "stream",
     "text": [
      "Processed and saved: ../../data/processed/traffic/2019/07-2019_processed.parquet\n",
      "len df before filtering  10794005\n",
      "Unique traffic sensors before filtering: 3982\n",
      "len df after filtering  143596\n",
      "Unique traffic sensors after filtering: 53\n"
     ]
    },
    {
     "name": "stderr",
     "output_type": "stream",
     "text": [
      "/var/folders/kc/t6c9n8gj7mbblj0w7sy3ykwm0000gn/T/ipykernel_17468/3807989780.py:25: FutureWarning: 'H' is deprecated and will be removed in a future version, please use 'h' instead.\n",
      "  df_traffic['hora'] = df_traffic['fecha'].dt.floor('H')\n",
      "Processing groups: 100%|██████████| 36074/36074 [00:05<00:00, 7158.63it/s]\n"
     ]
    },
    {
     "name": "stdout",
     "output_type": "stream",
     "text": [
      "Processed and saved: ../../data/processed/traffic/2019/06-2019_processed.parquet\n",
      "len df before filtering  11478841\n",
      "Unique traffic sensors before filtering: 4033\n",
      "len df after filtering  153008\n",
      "Unique traffic sensors after filtering: 53\n"
     ]
    },
    {
     "name": "stderr",
     "output_type": "stream",
     "text": [
      "/var/folders/kc/t6c9n8gj7mbblj0w7sy3ykwm0000gn/T/ipykernel_17468/3807989780.py:25: FutureWarning: 'H' is deprecated and will be removed in a future version, please use 'h' instead.\n",
      "  df_traffic['hora'] = df_traffic['fecha'].dt.floor('H')\n",
      "Processing groups: 100%|██████████| 38431/38431 [00:05<00:00, 7155.35it/s]\n"
     ]
    },
    {
     "name": "stdout",
     "output_type": "stream",
     "text": [
      "Processed and saved: ../../data/processed/traffic/2019/10-2019_processed.parquet\n",
      "len df before filtering  11186837\n",
      "Unique traffic sensors before filtering: 4039\n",
      "len df after filtering  148975\n",
      "Unique traffic sensors after filtering: 53\n"
     ]
    },
    {
     "name": "stderr",
     "output_type": "stream",
     "text": [
      "/var/folders/kc/t6c9n8gj7mbblj0w7sy3ykwm0000gn/T/ipykernel_17468/3807989780.py:25: FutureWarning: 'H' is deprecated and will be removed in a future version, please use 'h' instead.\n",
      "  df_traffic['hora'] = df_traffic['fecha'].dt.floor('H')\n",
      "Processing groups: 100%|██████████| 37417/37417 [00:05<00:00, 7175.37it/s]\n"
     ]
    },
    {
     "name": "stdout",
     "output_type": "stream",
     "text": [
      "Processed and saved: ../../data/processed/traffic/2019/11-2019_processed.parquet\n",
      "len df before filtering  11096650\n",
      "Unique traffic sensors before filtering: 3963\n",
      "len df after filtering  143357\n",
      "Unique traffic sensors after filtering: 53\n"
     ]
    },
    {
     "name": "stderr",
     "output_type": "stream",
     "text": [
      "/var/folders/kc/t6c9n8gj7mbblj0w7sy3ykwm0000gn/T/ipykernel_17468/3807989780.py:25: FutureWarning: 'H' is deprecated and will be removed in a future version, please use 'h' instead.\n",
      "  df_traffic['hora'] = df_traffic['fecha'].dt.floor('H')\n",
      "Processing groups: 100%|██████████| 36189/36189 [00:04<00:00, 7253.51it/s]\n"
     ]
    },
    {
     "name": "stdout",
     "output_type": "stream",
     "text": [
      "Processed and saved: ../../data/processed/traffic/2019/03-2019_processed.parquet\n",
      "len df before filtering  10060856\n",
      "Unique traffic sensors before filtering: 3941\n",
      "len df after filtering  135482\n",
      "Unique traffic sensors after filtering: 53\n"
     ]
    },
    {
     "name": "stderr",
     "output_type": "stream",
     "text": [
      "/var/folders/kc/t6c9n8gj7mbblj0w7sy3ykwm0000gn/T/ipykernel_17468/3807989780.py:25: FutureWarning: 'H' is deprecated and will be removed in a future version, please use 'h' instead.\n",
      "  df_traffic['hora'] = df_traffic['fecha'].dt.floor('H')\n",
      "Processing groups: 100%|██████████| 34131/34131 [00:04<00:00, 7061.39it/s]\n"
     ]
    },
    {
     "name": "stdout",
     "output_type": "stream",
     "text": [
      "Processed and saved: ../../data/processed/traffic/2019/02-2019_processed.parquet\n",
      "len df before filtering  11023586\n",
      "Unique traffic sensors before filtering: 4019\n",
      "len df after filtering  143316\n",
      "Unique traffic sensors after filtering: 53\n"
     ]
    },
    {
     "name": "stderr",
     "output_type": "stream",
     "text": [
      "/var/folders/kc/t6c9n8gj7mbblj0w7sy3ykwm0000gn/T/ipykernel_17468/3807989780.py:25: FutureWarning: 'H' is deprecated and will be removed in a future version, please use 'h' instead.\n",
      "  df_traffic['hora'] = df_traffic['fecha'].dt.floor('H')\n",
      "Processing groups: 100%|██████████| 35981/35981 [00:05<00:00, 7143.86it/s]\n"
     ]
    },
    {
     "name": "stdout",
     "output_type": "stream",
     "text": [
      "Processed and saved: ../../data/processed/traffic/2019/09-2019_processed.parquet\n",
      "len df before filtering  11283290\n",
      "Unique traffic sensors before filtering: 3998\n",
      "len df after filtering  147430\n",
      "Unique traffic sensors after filtering: 53\n"
     ]
    },
    {
     "name": "stderr",
     "output_type": "stream",
     "text": [
      "/var/folders/kc/t6c9n8gj7mbblj0w7sy3ykwm0000gn/T/ipykernel_17468/3807989780.py:25: FutureWarning: 'H' is deprecated and will be removed in a future version, please use 'h' instead.\n",
      "  df_traffic['hora'] = df_traffic['fecha'].dt.floor('H')\n",
      "Processing groups: 100%|██████████| 37173/37173 [00:05<00:00, 7225.96it/s]\n"
     ]
    },
    {
     "name": "stdout",
     "output_type": "stream",
     "text": [
      "Processed and saved: ../../data/processed/traffic/2019/08-2019_processed.parquet\n",
      "len df before filtering  11518048\n",
      "Unique traffic sensors before filtering: 4056\n",
      "len df after filtering  150672\n",
      "Unique traffic sensors after filtering: 53\n"
     ]
    },
    {
     "name": "stderr",
     "output_type": "stream",
     "text": [
      "/var/folders/kc/t6c9n8gj7mbblj0w7sy3ykwm0000gn/T/ipykernel_17468/3807989780.py:25: FutureWarning: 'H' is deprecated and will be removed in a future version, please use 'h' instead.\n",
      "  df_traffic['hora'] = df_traffic['fecha'].dt.floor('H')\n",
      "Processing groups: 100%|██████████| 37895/37895 [00:05<00:00, 7141.77it/s]\n"
     ]
    },
    {
     "name": "stdout",
     "output_type": "stream",
     "text": [
      "Processed and saved: ../../data/processed/traffic/2019/12-2019_processed.parquet\n",
      "len df before filtering  10542041\n",
      "Unique traffic sensors before filtering: 3950\n",
      "len df after filtering  133826\n",
      "Unique traffic sensors after filtering: 53\n"
     ]
    },
    {
     "name": "stderr",
     "output_type": "stream",
     "text": [
      "/var/folders/kc/t6c9n8gj7mbblj0w7sy3ykwm0000gn/T/ipykernel_17468/3807989780.py:25: FutureWarning: 'H' is deprecated and will be removed in a future version, please use 'h' instead.\n",
      "  df_traffic['hora'] = df_traffic['fecha'].dt.floor('H')\n",
      "Processing groups: 100%|██████████| 33716/33716 [00:04<00:00, 7152.88it/s]\n"
     ]
    },
    {
     "name": "stdout",
     "output_type": "stream",
     "text": [
      "Processed and saved: ../../data/processed/traffic/2019/04-2019_processed.parquet\n",
      "len df before filtering  11060255\n",
      "Unique traffic sensors before filtering: 3968\n"
     ]
    },
    {
     "name": "stderr",
     "output_type": "stream",
     "text": [
      "/var/folders/kc/t6c9n8gj7mbblj0w7sy3ykwm0000gn/T/ipykernel_17468/3807989780.py:25: FutureWarning: 'H' is deprecated and will be removed in a future version, please use 'h' instead.\n",
      "  df_traffic['hora'] = df_traffic['fecha'].dt.floor('H')\n"
     ]
    },
    {
     "name": "stdout",
     "output_type": "stream",
     "text": [
      "len df after filtering  141308\n",
      "Unique traffic sensors after filtering: 53\n"
     ]
    },
    {
     "name": "stderr",
     "output_type": "stream",
     "text": [
      "Processing groups: 100%|██████████| 35541/35541 [00:04<00:00, 7128.19it/s]\n"
     ]
    },
    {
     "name": "stdout",
     "output_type": "stream",
     "text": [
      "Processed and saved: ../../data/processed/traffic/2019/05-2019_processed.parquet\n",
      "Processing folder: ../../data/raw/traffic/2020\n",
      "len df before filtering  11577408\n",
      "Unique traffic sensors before filtering: 4058\n",
      "len df after filtering  146849\n",
      "Unique traffic sensors after filtering: 53\n"
     ]
    },
    {
     "name": "stderr",
     "output_type": "stream",
     "text": [
      "/var/folders/kc/t6c9n8gj7mbblj0w7sy3ykwm0000gn/T/ipykernel_17468/3807989780.py:25: FutureWarning: 'H' is deprecated and will be removed in a future version, please use 'h' instead.\n",
      "  df_traffic['hora'] = df_traffic['fecha'].dt.floor('H')\n",
      "Processing groups: 100%|██████████| 37193/37193 [00:05<00:00, 7130.94it/s]\n"
     ]
    },
    {
     "name": "stdout",
     "output_type": "stream",
     "text": [
      "Processed and saved: ../../data/processed/traffic/2020/01-2020_processed.parquet\n",
      "len df before filtering  11401995\n",
      "Unique traffic sensors before filtering: 4168\n",
      "len df after filtering  141972\n",
      "Unique traffic sensors after filtering: 54\n"
     ]
    },
    {
     "name": "stderr",
     "output_type": "stream",
     "text": [
      "/var/folders/kc/t6c9n8gj7mbblj0w7sy3ykwm0000gn/T/ipykernel_17468/3807989780.py:25: FutureWarning: 'H' is deprecated and will be removed in a future version, please use 'h' instead.\n",
      "  df_traffic['hora'] = df_traffic['fecha'].dt.floor('H')\n",
      "Processing groups: 100%|██████████| 36420/36420 [00:04<00:00, 7309.86it/s]\n"
     ]
    },
    {
     "name": "stdout",
     "output_type": "stream",
     "text": [
      "Processed and saved: ../../data/processed/traffic/2020/10-2020_processed.parquet\n",
      "len df before filtering  11304137\n",
      "Unique traffic sensors before filtering: 4160\n",
      "len df after filtering  141456\n",
      "Unique traffic sensors after filtering: 52\n"
     ]
    },
    {
     "name": "stderr",
     "output_type": "stream",
     "text": [
      "/var/folders/kc/t6c9n8gj7mbblj0w7sy3ykwm0000gn/T/ipykernel_17468/3807989780.py:25: FutureWarning: 'H' is deprecated and will be removed in a future version, please use 'h' instead.\n",
      "  df_traffic['hora'] = df_traffic['fecha'].dt.floor('H')\n",
      "Processing groups: 100%|██████████| 36123/36123 [00:05<00:00, 7204.74it/s]\n"
     ]
    },
    {
     "name": "stdout",
     "output_type": "stream",
     "text": [
      "Processed and saved: ../../data/processed/traffic/2020/11-2020_processed.parquet\n",
      "len df before filtering  10915562\n",
      "Unique traffic sensors before filtering: 3966\n",
      "len df after filtering  144106\n",
      "Unique traffic sensors after filtering: 53\n"
     ]
    },
    {
     "name": "stderr",
     "output_type": "stream",
     "text": [
      "/var/folders/kc/t6c9n8gj7mbblj0w7sy3ykwm0000gn/T/ipykernel_17468/3807989780.py:25: FutureWarning: 'H' is deprecated and will be removed in a future version, please use 'h' instead.\n",
      "  df_traffic['hora'] = df_traffic['fecha'].dt.floor('H')\n",
      "Processing groups: 100%|██████████| 36581/36581 [00:04<00:00, 7437.70it/s]\n"
     ]
    },
    {
     "name": "stdout",
     "output_type": "stream",
     "text": [
      "Processed and saved: ../../data/processed/traffic/2020/07-2020_processed.parquet\n",
      "len df before filtering  10552512\n",
      "Unique traffic sensors before filtering: 3970\n",
      "len df after filtering  137696\n",
      "Unique traffic sensors after filtering: 53\n"
     ]
    },
    {
     "name": "stderr",
     "output_type": "stream",
     "text": [
      "/var/folders/kc/t6c9n8gj7mbblj0w7sy3ykwm0000gn/T/ipykernel_17468/3807989780.py:25: FutureWarning: 'H' is deprecated and will be removed in a future version, please use 'h' instead.\n",
      "  df_traffic['hora'] = df_traffic['fecha'].dt.floor('H')\n",
      "Processing groups: 100%|██████████| 34902/34902 [00:04<00:00, 7505.64it/s]\n"
     ]
    },
    {
     "name": "stdout",
     "output_type": "stream",
     "text": [
      "Processed and saved: ../../data/processed/traffic/2020/06-2020_processed.parquet\n",
      "len df before filtering  11050575\n",
      "Unique traffic sensors before filtering: 4150\n"
     ]
    },
    {
     "name": "stderr",
     "output_type": "stream",
     "text": [
      "/var/folders/kc/t6c9n8gj7mbblj0w7sy3ykwm0000gn/T/ipykernel_17468/3807989780.py:25: FutureWarning: 'H' is deprecated and will be removed in a future version, please use 'h' instead.\n",
      "  df_traffic['hora'] = df_traffic['fecha'].dt.floor('H')\n"
     ]
    },
    {
     "name": "stdout",
     "output_type": "stream",
     "text": [
      "len df after filtering  136014\n",
      "Unique traffic sensors after filtering: 53\n"
     ]
    },
    {
     "name": "stderr",
     "output_type": "stream",
     "text": [
      "Processing groups: 100%|██████████| 34660/34660 [00:04<00:00, 7457.91it/s]\n"
     ]
    },
    {
     "name": "stdout",
     "output_type": "stream",
     "text": [
      "Processed and saved: ../../data/processed/traffic/2020/09-2020_processed.parquet\n",
      "len df before filtering  10776844\n",
      "Unique traffic sensors before filtering: 3965\n",
      "len df after filtering  140806\n",
      "Unique traffic sensors after filtering: 53\n"
     ]
    },
    {
     "name": "stderr",
     "output_type": "stream",
     "text": [
      "/var/folders/kc/t6c9n8gj7mbblj0w7sy3ykwm0000gn/T/ipykernel_17468/3807989780.py:25: FutureWarning: 'H' is deprecated and will be removed in a future version, please use 'h' instead.\n",
      "  df_traffic['hora'] = df_traffic['fecha'].dt.floor('H')\n",
      "Processing groups: 100%|██████████| 36045/36045 [00:04<00:00, 7667.71it/s]\n"
     ]
    },
    {
     "name": "stdout",
     "output_type": "stream",
     "text": [
      "Processed and saved: ../../data/processed/traffic/2020/08-2020_processed.parquet\n",
      "len df before filtering  11240571\n",
      "Unique traffic sensors before filtering: 4068\n",
      "len df after filtering  143232\n",
      "Unique traffic sensors after filtering: 51\n"
     ]
    },
    {
     "name": "stderr",
     "output_type": "stream",
     "text": [
      "/var/folders/kc/t6c9n8gj7mbblj0w7sy3ykwm0000gn/T/ipykernel_17468/3807989780.py:25: FutureWarning: 'H' is deprecated and will be removed in a future version, please use 'h' instead.\n",
      "  df_traffic['hora'] = df_traffic['fecha'].dt.floor('H')\n",
      "Processing groups: 100%|██████████| 36539/36539 [00:05<00:00, 7194.72it/s]\n"
     ]
    },
    {
     "name": "stdout",
     "output_type": "stream",
     "text": [
      "Processed and saved: ../../data/processed/traffic/2020/03-2020_processed.parquet\n",
      "len df before filtering  10926382\n",
      "Unique traffic sensors before filtering: 4071\n",
      "len df after filtering  138173\n",
      "Unique traffic sensors after filtering: 53\n"
     ]
    },
    {
     "name": "stderr",
     "output_type": "stream",
     "text": [
      "/var/folders/kc/t6c9n8gj7mbblj0w7sy3ykwm0000gn/T/ipykernel_17468/3807989780.py:25: FutureWarning: 'H' is deprecated and will be removed in a future version, please use 'h' instead.\n",
      "  df_traffic['hora'] = df_traffic['fecha'].dt.floor('H')\n",
      "Processing groups: 100%|██████████| 35010/35010 [00:04<00:00, 7246.07it/s]\n"
     ]
    },
    {
     "name": "stdout",
     "output_type": "stream",
     "text": [
      "Processed and saved: ../../data/processed/traffic/2020/02-2020_processed.parquet\n",
      "len df before filtering  10603087\n",
      "Unique traffic sensors before filtering: 4064\n",
      "len df after filtering  133937\n",
      "Unique traffic sensors after filtering: 52\n"
     ]
    },
    {
     "name": "stderr",
     "output_type": "stream",
     "text": [
      "/var/folders/kc/t6c9n8gj7mbblj0w7sy3ykwm0000gn/T/ipykernel_17468/3807989780.py:25: FutureWarning: 'H' is deprecated and will be removed in a future version, please use 'h' instead.\n",
      "  df_traffic['hora'] = df_traffic['fecha'].dt.floor('H')\n",
      "Processing groups: 100%|██████████| 34627/34627 [00:04<00:00, 7127.44it/s]\n"
     ]
    },
    {
     "name": "stdout",
     "output_type": "stream",
     "text": [
      "Processed and saved: ../../data/processed/traffic/2020/04-2020_processed.parquet\n",
      "len df before filtering  10905113\n",
      "Unique traffic sensors before filtering: 4065\n"
     ]
    },
    {
     "name": "stderr",
     "output_type": "stream",
     "text": [
      "/var/folders/kc/t6c9n8gj7mbblj0w7sy3ykwm0000gn/T/ipykernel_17468/3807989780.py:25: FutureWarning: 'H' is deprecated and will be removed in a future version, please use 'h' instead.\n",
      "  df_traffic['hora'] = df_traffic['fecha'].dt.floor('H')\n"
     ]
    },
    {
     "name": "stdout",
     "output_type": "stream",
     "text": [
      "len df after filtering  136748\n",
      "Unique traffic sensors after filtering: 52\n"
     ]
    },
    {
     "name": "stderr",
     "output_type": "stream",
     "text": [
      "Processing groups: 100%|██████████| 34990/34990 [00:04<00:00, 7209.77it/s]\n"
     ]
    },
    {
     "name": "stdout",
     "output_type": "stream",
     "text": [
      "Processed and saved: ../../data/processed/traffic/2020/05-2020_processed.parquet\n",
      "len df before filtering  11101234\n",
      "Unique traffic sensors before filtering: 4173\n",
      "len df after filtering  138899\n",
      "Unique traffic sensors after filtering: 53\n"
     ]
    },
    {
     "name": "stderr",
     "output_type": "stream",
     "text": [
      "/var/folders/kc/t6c9n8gj7mbblj0w7sy3ykwm0000gn/T/ipykernel_17468/3807989780.py:25: FutureWarning: 'H' is deprecated and will be removed in a future version, please use 'h' instead.\n",
      "  df_traffic['hora'] = df_traffic['fecha'].dt.floor('H')\n",
      "Processing groups: 100%|██████████| 36058/36058 [00:05<00:00, 7170.78it/s]\n"
     ]
    },
    {
     "name": "stdout",
     "output_type": "stream",
     "text": [
      "Processed and saved: ../../data/processed/traffic/2020/12-2020_processed.parquet\n",
      "Processing folder: ../../data/raw/traffic/2021\n",
      "len df before filtering  10422264\n",
      "Unique traffic sensors before filtering: 4173\n",
      "len df after filtering  127515\n",
      "Unique traffic sensors after filtering: 52\n"
     ]
    },
    {
     "name": "stderr",
     "output_type": "stream",
     "text": [
      "/var/folders/kc/t6c9n8gj7mbblj0w7sy3ykwm0000gn/T/ipykernel_17468/3807989780.py:25: FutureWarning: 'H' is deprecated and will be removed in a future version, please use 'h' instead.\n",
      "  df_traffic['hora'] = df_traffic['fecha'].dt.floor('H')\n",
      "Processing groups: 100%|██████████| 33720/33720 [00:04<00:00, 7233.82it/s]\n"
     ]
    },
    {
     "name": "stdout",
     "output_type": "stream",
     "text": [
      "Processed and saved: ../../data/processed/traffic/2021/01-2021_processed.parquet\n",
      "len df before filtering  11753247\n",
      "Unique traffic sensors before filtering: 4351\n",
      "len df after filtering  157909\n",
      "Unique traffic sensors after filtering: 60\n"
     ]
    },
    {
     "name": "stderr",
     "output_type": "stream",
     "text": [
      "/var/folders/kc/t6c9n8gj7mbblj0w7sy3ykwm0000gn/T/ipykernel_17468/3807989780.py:25: FutureWarning: 'H' is deprecated and will be removed in a future version, please use 'h' instead.\n",
      "  df_traffic['hora'] = df_traffic['fecha'].dt.floor('H')\n",
      "Processing groups: 100%|██████████| 40029/40029 [00:05<00:00, 7217.07it/s]\n"
     ]
    },
    {
     "name": "stdout",
     "output_type": "stream",
     "text": [
      "Processed and saved: ../../data/processed/traffic/2021/11-2021_processed.parquet\n",
      "len df before filtering  12036913\n",
      "Unique traffic sensors before filtering: 4314\n",
      "len df after filtering  160691\n",
      "Unique traffic sensors after filtering: 56\n"
     ]
    },
    {
     "name": "stderr",
     "output_type": "stream",
     "text": [
      "/var/folders/kc/t6c9n8gj7mbblj0w7sy3ykwm0000gn/T/ipykernel_17468/3807989780.py:25: FutureWarning: 'H' is deprecated and will be removed in a future version, please use 'h' instead.\n",
      "  df_traffic['hora'] = df_traffic['fecha'].dt.floor('H')\n",
      "Processing groups: 100%|██████████| 40681/40681 [00:05<00:00, 7167.76it/s]\n"
     ]
    },
    {
     "name": "stdout",
     "output_type": "stream",
     "text": [
      "Processed and saved: ../../data/processed/traffic/2021/10-2021_processed.parquet\n",
      "len df before filtering  11577338\n",
      "Unique traffic sensors before filtering: 4273\n"
     ]
    },
    {
     "name": "stderr",
     "output_type": "stream",
     "text": [
      "/var/folders/kc/t6c9n8gj7mbblj0w7sy3ykwm0000gn/T/ipykernel_17468/3807989780.py:25: FutureWarning: 'H' is deprecated and will be removed in a future version, please use 'h' instead.\n",
      "  df_traffic['hora'] = df_traffic['fecha'].dt.floor('H')\n"
     ]
    },
    {
     "name": "stdout",
     "output_type": "stream",
     "text": [
      "len df after filtering  136804\n",
      "Unique traffic sensors after filtering: 55\n"
     ]
    },
    {
     "name": "stderr",
     "output_type": "stream",
     "text": [
      "Processing groups: 100%|██████████| 34725/34725 [00:04<00:00, 7180.46it/s]\n"
     ]
    },
    {
     "name": "stdout",
     "output_type": "stream",
     "text": [
      "Processed and saved: ../../data/processed/traffic/2021/06-2021_processed.parquet\n",
      "len df before filtering  12132019\n",
      "Unique traffic sensors before filtering: 4304\n",
      "len df after filtering  150906\n",
      "Unique traffic sensors after filtering: 53\n"
     ]
    },
    {
     "name": "stderr",
     "output_type": "stream",
     "text": [
      "/var/folders/kc/t6c9n8gj7mbblj0w7sy3ykwm0000gn/T/ipykernel_17468/3807989780.py:25: FutureWarning: 'H' is deprecated and will be removed in a future version, please use 'h' instead.\n",
      "  df_traffic['hora'] = df_traffic['fecha'].dt.floor('H')\n",
      "Processing groups: 100%|██████████| 38288/38288 [00:05<00:00, 7103.27it/s]\n"
     ]
    },
    {
     "name": "stdout",
     "output_type": "stream",
     "text": [
      "Processed and saved: ../../data/processed/traffic/2021/07-2021_processed.parquet\n",
      "len df before filtering  11992900\n",
      "Unique traffic sensors before filtering: 4301\n",
      "len df after filtering  151452\n",
      "Unique traffic sensors after filtering: 53\n"
     ]
    },
    {
     "name": "stderr",
     "output_type": "stream",
     "text": [
      "/var/folders/kc/t6c9n8gj7mbblj0w7sy3ykwm0000gn/T/ipykernel_17468/3807989780.py:25: FutureWarning: 'H' is deprecated and will be removed in a future version, please use 'h' instead.\n",
      "  df_traffic['hora'] = df_traffic['fecha'].dt.floor('H')\n",
      "Processing groups: 100%|██████████| 38612/38612 [00:05<00:00, 7226.18it/s]\n"
     ]
    },
    {
     "name": "stdout",
     "output_type": "stream",
     "text": [
      "Processed and saved: ../../data/processed/traffic/2021/08-2021_processed.parquet\n",
      "len df before filtering  11697249\n",
      "Unique traffic sensors before filtering: 4318\n",
      "len df after filtering  148204\n",
      "Unique traffic sensors after filtering: 57\n"
     ]
    },
    {
     "name": "stderr",
     "output_type": "stream",
     "text": [
      "/var/folders/kc/t6c9n8gj7mbblj0w7sy3ykwm0000gn/T/ipykernel_17468/3807989780.py:25: FutureWarning: 'H' is deprecated and will be removed in a future version, please use 'h' instead.\n",
      "  df_traffic['hora'] = df_traffic['fecha'].dt.floor('H')\n",
      "Processing groups: 100%|██████████| 37577/37577 [00:05<00:00, 7136.49it/s]\n"
     ]
    },
    {
     "name": "stdout",
     "output_type": "stream",
     "text": [
      "Processed and saved: ../../data/processed/traffic/2021/09-2021_processed.parquet\n",
      "len df before filtering  10477478\n",
      "Unique traffic sensors before filtering: 4181\n"
     ]
    },
    {
     "name": "stderr",
     "output_type": "stream",
     "text": [
      "/var/folders/kc/t6c9n8gj7mbblj0w7sy3ykwm0000gn/T/ipykernel_17468/3807989780.py:25: FutureWarning: 'H' is deprecated and will be removed in a future version, please use 'h' instead.\n",
      "  df_traffic['hora'] = df_traffic['fecha'].dt.floor('H')\n"
     ]
    },
    {
     "name": "stdout",
     "output_type": "stream",
     "text": [
      "len df after filtering  128966\n",
      "Unique traffic sensors after filtering: 53\n"
     ]
    },
    {
     "name": "stderr",
     "output_type": "stream",
     "text": [
      "Processing groups: 100%|██████████| 32817/32817 [00:04<00:00, 7075.52it/s]\n"
     ]
    },
    {
     "name": "stdout",
     "output_type": "stream",
     "text": [
      "Processed and saved: ../../data/processed/traffic/2021/02-2021_processed.parquet\n",
      "len df before filtering  11891658\n",
      "Unique traffic sensors before filtering: 4255\n"
     ]
    },
    {
     "name": "stderr",
     "output_type": "stream",
     "text": [
      "/var/folders/kc/t6c9n8gj7mbblj0w7sy3ykwm0000gn/T/ipykernel_17468/3807989780.py:25: FutureWarning: 'H' is deprecated and will be removed in a future version, please use 'h' instead.\n",
      "  df_traffic['hora'] = df_traffic['fecha'].dt.floor('H')\n"
     ]
    },
    {
     "name": "stdout",
     "output_type": "stream",
     "text": [
      "len df after filtering  141084\n",
      "Unique traffic sensors after filtering: 51\n"
     ]
    },
    {
     "name": "stderr",
     "output_type": "stream",
     "text": [
      "Processing groups: 100%|██████████| 35932/35932 [00:05<00:00, 7167.87it/s]\n"
     ]
    },
    {
     "name": "stdout",
     "output_type": "stream",
     "text": [
      "Processed and saved: ../../data/processed/traffic/2021/03-2021_processed.parquet\n",
      "len df before filtering  11937669\n",
      "Unique traffic sensors before filtering: 4259\n",
      "len df after filtering  146058\n",
      "Unique traffic sensors after filtering: 54\n"
     ]
    },
    {
     "name": "stderr",
     "output_type": "stream",
     "text": [
      "/var/folders/kc/t6c9n8gj7mbblj0w7sy3ykwm0000gn/T/ipykernel_17468/3807989780.py:25: FutureWarning: 'H' is deprecated and will be removed in a future version, please use 'h' instead.\n",
      "  df_traffic['hora'] = df_traffic['fecha'].dt.floor('H')\n",
      "Processing groups: 100%|██████████| 37130/37130 [00:05<00:00, 7139.60it/s]\n"
     ]
    },
    {
     "name": "stdout",
     "output_type": "stream",
     "text": [
      "Processed and saved: ../../data/processed/traffic/2021/05-2021_processed.parquet\n",
      "len df before filtering  11495366\n",
      "Unique traffic sensors before filtering: 4238\n",
      "len df after filtering  135922\n",
      "Unique traffic sensors after filtering: 50\n"
     ]
    },
    {
     "name": "stderr",
     "output_type": "stream",
     "text": [
      "/var/folders/kc/t6c9n8gj7mbblj0w7sy3ykwm0000gn/T/ipykernel_17468/3807989780.py:25: FutureWarning: 'H' is deprecated and will be removed in a future version, please use 'h' instead.\n",
      "  df_traffic['hora'] = df_traffic['fecha'].dt.floor('H')\n",
      "Processing groups: 100%|██████████| 34608/34608 [00:04<00:00, 7161.19it/s]\n"
     ]
    },
    {
     "name": "stdout",
     "output_type": "stream",
     "text": [
      "Processed and saved: ../../data/processed/traffic/2021/04-2021_processed.parquet\n",
      "len df before filtering  12309478\n",
      "Unique traffic sensors before filtering: 4372\n",
      "len df after filtering  175074\n",
      "Unique traffic sensors after filtering: 60\n"
     ]
    },
    {
     "name": "stderr",
     "output_type": "stream",
     "text": [
      "/var/folders/kc/t6c9n8gj7mbblj0w7sy3ykwm0000gn/T/ipykernel_17468/3807989780.py:25: FutureWarning: 'H' is deprecated and will be removed in a future version, please use 'h' instead.\n",
      "  df_traffic['hora'] = df_traffic['fecha'].dt.floor('H')\n",
      "Processing groups: 100%|██████████| 44260/44260 [00:06<00:00, 7291.54it/s]\n"
     ]
    },
    {
     "name": "stdout",
     "output_type": "stream",
     "text": [
      "Processed and saved: ../../data/processed/traffic/2021/12-2021_processed.parquet\n",
      "Processing folder: ../../data/raw/traffic/2022\n",
      "len df before filtering  12429813\n",
      "Unique traffic sensors before filtering: 4374\n",
      "len df after filtering  174980\n",
      "Unique traffic sensors after filtering: 61\n"
     ]
    },
    {
     "name": "stderr",
     "output_type": "stream",
     "text": [
      "/var/folders/kc/t6c9n8gj7mbblj0w7sy3ykwm0000gn/T/ipykernel_17468/3807989780.py:25: FutureWarning: 'H' is deprecated and will be removed in a future version, please use 'h' instead.\n",
      "  df_traffic['hora'] = df_traffic['fecha'].dt.floor('H')\n",
      "Processing groups: 100%|██████████| 44303/44303 [00:06<00:00, 7180.82it/s]\n"
     ]
    },
    {
     "name": "stdout",
     "output_type": "stream",
     "text": [
      "Processed and saved: ../../data/processed/traffic/2022/01-2022_processed.parquet\n",
      "len df before filtering  12511377\n",
      "Unique traffic sensors before filtering: 4471\n",
      "len df after filtering  183165\n",
      "Unique traffic sensors after filtering: 63\n"
     ]
    },
    {
     "name": "stderr",
     "output_type": "stream",
     "text": [
      "/var/folders/kc/t6c9n8gj7mbblj0w7sy3ykwm0000gn/T/ipykernel_17468/3807989780.py:25: FutureWarning: 'H' is deprecated and will be removed in a future version, please use 'h' instead.\n",
      "  df_traffic['hora'] = df_traffic['fecha'].dt.floor('H')\n",
      "Processing groups: 100%|██████████| 46111/46111 [00:06<00:00, 7181.19it/s]\n"
     ]
    },
    {
     "name": "stdout",
     "output_type": "stream",
     "text": [
      "Processed and saved: ../../data/processed/traffic/2022/10-2022_processed.parquet\n",
      "len df before filtering  12096282\n",
      "Unique traffic sensors before filtering: 4488\n",
      "len df after filtering  180201\n",
      "Unique traffic sensors after filtering: 63\n"
     ]
    },
    {
     "name": "stderr",
     "output_type": "stream",
     "text": [
      "/var/folders/kc/t6c9n8gj7mbblj0w7sy3ykwm0000gn/T/ipykernel_17468/3807989780.py:25: FutureWarning: 'H' is deprecated and will be removed in a future version, please use 'h' instead.\n",
      "  df_traffic['hora'] = df_traffic['fecha'].dt.floor('H')\n",
      "Processing groups: 100%|██████████| 45285/45285 [00:06<00:00, 7097.17it/s]\n"
     ]
    },
    {
     "name": "stdout",
     "output_type": "stream",
     "text": [
      "Processed and saved: ../../data/processed/traffic/2022/11-2022_processed.parquet\n",
      "len df before filtering  11796277\n",
      "Unique traffic sensors before filtering: 4132\n",
      "len df after filtering  167934\n",
      "Unique traffic sensors after filtering: 59\n"
     ]
    },
    {
     "name": "stderr",
     "output_type": "stream",
     "text": [
      "/var/folders/kc/t6c9n8gj7mbblj0w7sy3ykwm0000gn/T/ipykernel_17468/3807989780.py:25: FutureWarning: 'H' is deprecated and will be removed in a future version, please use 'h' instead.\n",
      "  df_traffic['hora'] = df_traffic['fecha'].dt.floor('H')\n",
      "Processing groups: 100%|██████████| 42536/42536 [00:05<00:00, 7217.63it/s]\n"
     ]
    },
    {
     "name": "stdout",
     "output_type": "stream",
     "text": [
      "Processed and saved: ../../data/processed/traffic/2022/07-2022_processed.parquet\n",
      "len df before filtering  11399709\n",
      "Unique traffic sensors before filtering: 4129\n",
      "len df after filtering  163110\n",
      "Unique traffic sensors after filtering: 58\n"
     ]
    },
    {
     "name": "stderr",
     "output_type": "stream",
     "text": [
      "/var/folders/kc/t6c9n8gj7mbblj0w7sy3ykwm0000gn/T/ipykernel_17468/3807989780.py:25: FutureWarning: 'H' is deprecated and will be removed in a future version, please use 'h' instead.\n",
      "  df_traffic['hora'] = df_traffic['fecha'].dt.floor('H')\n",
      "Processing groups: 100%|██████████| 41106/41106 [00:05<00:00, 7016.13it/s]\n"
     ]
    },
    {
     "name": "stdout",
     "output_type": "stream",
     "text": [
      "Processed and saved: ../../data/processed/traffic/2022/06-2022_processed.parquet\n",
      "len df before filtering  11796900\n",
      "Unique traffic sensors before filtering: 4114\n",
      "len df after filtering  172400\n",
      "Unique traffic sensors after filtering: 59\n"
     ]
    },
    {
     "name": "stderr",
     "output_type": "stream",
     "text": [
      "/var/folders/kc/t6c9n8gj7mbblj0w7sy3ykwm0000gn/T/ipykernel_17468/3807989780.py:25: FutureWarning: 'H' is deprecated and will be removed in a future version, please use 'h' instead.\n",
      "  df_traffic['hora'] = df_traffic['fecha'].dt.floor('H')\n",
      "Processing groups: 100%|██████████| 43630/43630 [00:06<00:00, 7176.09it/s]\n"
     ]
    },
    {
     "name": "stdout",
     "output_type": "stream",
     "text": [
      "Processed and saved: ../../data/processed/traffic/2022/03-2022_processed.parquet\n",
      "len df before filtering  10794781\n",
      "Unique traffic sensors before filtering: 4394\n",
      "len df after filtering  157322\n",
      "Unique traffic sensors after filtering: 61\n"
     ]
    },
    {
     "name": "stderr",
     "output_type": "stream",
     "text": [
      "/var/folders/kc/t6c9n8gj7mbblj0w7sy3ykwm0000gn/T/ipykernel_17468/3807989780.py:25: FutureWarning: 'H' is deprecated and will be removed in a future version, please use 'h' instead.\n",
      "  df_traffic['hora'] = df_traffic['fecha'].dt.floor('H')\n",
      "Processing groups: 100%|██████████| 39788/39788 [00:05<00:00, 7203.48it/s]\n"
     ]
    },
    {
     "name": "stdout",
     "output_type": "stream",
     "text": [
      "Processed and saved: ../../data/processed/traffic/2022/02-2022_processed.parquet\n",
      "len df before filtering  12168291\n",
      "Unique traffic sensors before filtering: 4480\n",
      "len df after filtering  177779\n",
      "Unique traffic sensors after filtering: 63\n"
     ]
    },
    {
     "name": "stderr",
     "output_type": "stream",
     "text": [
      "/var/folders/kc/t6c9n8gj7mbblj0w7sy3ykwm0000gn/T/ipykernel_17468/3807989780.py:25: FutureWarning: 'H' is deprecated and will be removed in a future version, please use 'h' instead.\n",
      "  df_traffic['hora'] = df_traffic['fecha'].dt.floor('H')\n",
      "Processing groups: 100%|██████████| 44771/44771 [00:06<00:00, 7175.96it/s]\n"
     ]
    },
    {
     "name": "stdout",
     "output_type": "stream",
     "text": [
      "Processed and saved: ../../data/processed/traffic/2022/09-2022_processed.parquet\n",
      "len df before filtering  11693047\n",
      "Unique traffic sensors before filtering: 4148\n",
      "len df after filtering  172267\n",
      "Unique traffic sensors after filtering: 61\n"
     ]
    },
    {
     "name": "stderr",
     "output_type": "stream",
     "text": [
      "/var/folders/kc/t6c9n8gj7mbblj0w7sy3ykwm0000gn/T/ipykernel_17468/3807989780.py:25: FutureWarning: 'H' is deprecated and will be removed in a future version, please use 'h' instead.\n",
      "  df_traffic['hora'] = df_traffic['fecha'].dt.floor('H')\n",
      "Processing groups: 100%|██████████| 43604/43604 [00:06<00:00, 7124.94it/s]\n"
     ]
    },
    {
     "name": "stdout",
     "output_type": "stream",
     "text": [
      "Processed and saved: ../../data/processed/traffic/2022/08-2022_processed.parquet\n",
      "len df before filtering  11323906\n",
      "Unique traffic sensors before filtering: 4119\n",
      "len df after filtering  165587\n",
      "Unique traffic sensors after filtering: 59\n"
     ]
    },
    {
     "name": "stderr",
     "output_type": "stream",
     "text": [
      "/var/folders/kc/t6c9n8gj7mbblj0w7sy3ykwm0000gn/T/ipykernel_17468/3807989780.py:25: FutureWarning: 'H' is deprecated and will be removed in a future version, please use 'h' instead.\n",
      "  df_traffic['hora'] = df_traffic['fecha'].dt.floor('H')\n",
      "Processing groups: 100%|██████████| 41898/41898 [00:05<00:00, 7200.01it/s]\n"
     ]
    },
    {
     "name": "stdout",
     "output_type": "stream",
     "text": [
      "Processed and saved: ../../data/processed/traffic/2022/04-2022_processed.parquet\n",
      "len df before filtering  11732565\n",
      "Unique traffic sensors before filtering: 4127\n",
      "len df after filtering  166427\n",
      "Unique traffic sensors after filtering: 59\n"
     ]
    },
    {
     "name": "stderr",
     "output_type": "stream",
     "text": [
      "/var/folders/kc/t6c9n8gj7mbblj0w7sy3ykwm0000gn/T/ipykernel_17468/3807989780.py:25: FutureWarning: 'H' is deprecated and will be removed in a future version, please use 'h' instead.\n",
      "  df_traffic['hora'] = df_traffic['fecha'].dt.floor('H')\n",
      "Processing groups: 100%|██████████| 41991/41991 [00:05<00:00, 7126.26it/s]\n"
     ]
    },
    {
     "name": "stdout",
     "output_type": "stream",
     "text": [
      "Processed and saved: ../../data/processed/traffic/2022/05-2022_processed.parquet\n",
      "len df before filtering  12512133\n",
      "Unique traffic sensors before filtering: 4487\n",
      "len df after filtering  186549\n",
      "Unique traffic sensors after filtering: 63\n"
     ]
    },
    {
     "name": "stderr",
     "output_type": "stream",
     "text": [
      "/var/folders/kc/t6c9n8gj7mbblj0w7sy3ykwm0000gn/T/ipykernel_17468/3807989780.py:25: FutureWarning: 'H' is deprecated and will be removed in a future version, please use 'h' instead.\n",
      "  df_traffic['hora'] = df_traffic['fecha'].dt.floor('H')\n",
      "Processing groups: 100%|██████████| 46843/46843 [00:06<00:00, 7142.97it/s]\n"
     ]
    },
    {
     "name": "stdout",
     "output_type": "stream",
     "text": [
      "Processed and saved: ../../data/processed/traffic/2022/12-2022_processed.parquet\n",
      "Processing folder: ../../data/raw/traffic/2023\n",
      "len df before filtering  12644350\n",
      "Unique traffic sensors before filtering: 4506\n",
      "len df after filtering  186179\n",
      "Unique traffic sensors after filtering: 63\n"
     ]
    },
    {
     "name": "stderr",
     "output_type": "stream",
     "text": [
      "/var/folders/kc/t6c9n8gj7mbblj0w7sy3ykwm0000gn/T/ipykernel_17468/3807989780.py:25: FutureWarning: 'H' is deprecated and will be removed in a future version, please use 'h' instead.\n",
      "  df_traffic['hora'] = df_traffic['fecha'].dt.floor('H')\n",
      "Processing groups: 100%|██████████| 46786/46786 [00:06<00:00, 6840.61it/s]\n"
     ]
    },
    {
     "name": "stdout",
     "output_type": "stream",
     "text": [
      "Processed and saved: ../../data/processed/traffic/2023/01-2023_processed.parquet\n",
      "len df before filtering  12774666\n",
      "Unique traffic sensors before filtering: 4663\n",
      "len df after filtering  174835\n",
      "Unique traffic sensors after filtering: 63\n"
     ]
    },
    {
     "name": "stderr",
     "output_type": "stream",
     "text": [
      "/var/folders/kc/t6c9n8gj7mbblj0w7sy3ykwm0000gn/T/ipykernel_17468/3807989780.py:25: FutureWarning: 'H' is deprecated and will be removed in a future version, please use 'h' instead.\n",
      "  df_traffic['hora'] = df_traffic['fecha'].dt.floor('H')\n",
      "Processing groups: 100%|██████████| 44085/44085 [00:06<00:00, 6966.50it/s]\n"
     ]
    },
    {
     "name": "stdout",
     "output_type": "stream",
     "text": [
      "Processed and saved: ../../data/processed/traffic/2023/11-2023_processed.parquet\n",
      "len df before filtering  12946685\n",
      "Unique traffic sensors before filtering: 4603\n",
      "len df after filtering  173620\n",
      "Unique traffic sensors after filtering: 63\n"
     ]
    },
    {
     "name": "stderr",
     "output_type": "stream",
     "text": [
      "/var/folders/kc/t6c9n8gj7mbblj0w7sy3ykwm0000gn/T/ipykernel_17468/3807989780.py:25: FutureWarning: 'H' is deprecated and will be removed in a future version, please use 'h' instead.\n",
      "  df_traffic['hora'] = df_traffic['fecha'].dt.floor('H')\n",
      "Processing groups: 100%|██████████| 43861/43861 [00:06<00:00, 7138.13it/s]\n"
     ]
    },
    {
     "name": "stdout",
     "output_type": "stream",
     "text": [
      "Processed and saved: ../../data/processed/traffic/2023/10-2023_processed.parquet\n",
      "len df before filtering  12485567\n",
      "Unique traffic sensors before filtering: 4551\n",
      "len df after filtering  172789\n",
      "Unique traffic sensors after filtering: 63\n"
     ]
    },
    {
     "name": "stderr",
     "output_type": "stream",
     "text": [
      "/var/folders/kc/t6c9n8gj7mbblj0w7sy3ykwm0000gn/T/ipykernel_17468/3807989780.py:25: FutureWarning: 'H' is deprecated and will be removed in a future version, please use 'h' instead.\n",
      "  df_traffic['hora'] = df_traffic['fecha'].dt.floor('H')\n",
      "Processing groups: 100%|██████████| 43649/43649 [00:06<00:00, 7215.18it/s]\n"
     ]
    },
    {
     "name": "stdout",
     "output_type": "stream",
     "text": [
      "Processed and saved: ../../data/processed/traffic/2023/06-2023_processed.parquet\n",
      "len df before filtering  12945236\n",
      "Unique traffic sensors before filtering: 4582\n",
      "len df after filtering  174097\n",
      "Unique traffic sensors after filtering: 63\n"
     ]
    },
    {
     "name": "stderr",
     "output_type": "stream",
     "text": [
      "/var/folders/kc/t6c9n8gj7mbblj0w7sy3ykwm0000gn/T/ipykernel_17468/3807989780.py:25: FutureWarning: 'H' is deprecated and will be removed in a future version, please use 'h' instead.\n",
      "  df_traffic['hora'] = df_traffic['fecha'].dt.floor('H')\n",
      "Processing groups: 100%|██████████| 44116/44116 [00:06<00:00, 7167.32it/s]\n"
     ]
    },
    {
     "name": "stdout",
     "output_type": "stream",
     "text": [
      "Processed and saved: ../../data/processed/traffic/2023/07-2023_processed.parquet\n",
      "len df before filtering  11388974\n",
      "Unique traffic sensors before filtering: 4503\n",
      "len df after filtering  166254\n",
      "Unique traffic sensors after filtering: 63\n"
     ]
    },
    {
     "name": "stderr",
     "output_type": "stream",
     "text": [
      "/var/folders/kc/t6c9n8gj7mbblj0w7sy3ykwm0000gn/T/ipykernel_17468/3807989780.py:25: FutureWarning: 'H' is deprecated and will be removed in a future version, please use 'h' instead.\n",
      "  df_traffic['hora'] = df_traffic['fecha'].dt.floor('H')\n",
      "Processing groups: 100%|██████████| 42079/42079 [00:06<00:00, 6959.73it/s]\n"
     ]
    },
    {
     "name": "stdout",
     "output_type": "stream",
     "text": [
      "Processed and saved: ../../data/processed/traffic/2023/02-2023_processed.parquet\n",
      "len df before filtering  12732652\n",
      "Unique traffic sensors before filtering: 4512\n",
      "len df after filtering  184992\n",
      "Unique traffic sensors after filtering: 63\n"
     ]
    },
    {
     "name": "stderr",
     "output_type": "stream",
     "text": [
      "/var/folders/kc/t6c9n8gj7mbblj0w7sy3ykwm0000gn/T/ipykernel_17468/3807989780.py:25: FutureWarning: 'H' is deprecated and will be removed in a future version, please use 'h' instead.\n",
      "  df_traffic['hora'] = df_traffic['fecha'].dt.floor('H')\n",
      "Processing groups: 100%|██████████| 46628/46628 [00:06<00:00, 7161.01it/s]\n"
     ]
    },
    {
     "name": "stdout",
     "output_type": "stream",
     "text": [
      "Processed and saved: ../../data/processed/traffic/2023/03-2023_processed.parquet\n",
      "len df before filtering  12744711\n",
      "Unique traffic sensors before filtering: 4588\n",
      "len df after filtering  172628\n",
      "Unique traffic sensors after filtering: 63\n"
     ]
    },
    {
     "name": "stderr",
     "output_type": "stream",
     "text": [
      "/var/folders/kc/t6c9n8gj7mbblj0w7sy3ykwm0000gn/T/ipykernel_17468/3807989780.py:25: FutureWarning: 'H' is deprecated and will be removed in a future version, please use 'h' instead.\n",
      "  df_traffic['hora'] = df_traffic['fecha'].dt.floor('H')\n",
      "Processing groups: 100%|██████████| 43956/43956 [00:06<00:00, 7114.46it/s]\n"
     ]
    },
    {
     "name": "stdout",
     "output_type": "stream",
     "text": [
      "Processed and saved: ../../data/processed/traffic/2023/08-2023_processed.parquet\n",
      "len df before filtering  12518185\n",
      "Unique traffic sensors before filtering: 4563\n",
      "len df after filtering  171061\n",
      "Unique traffic sensors after filtering: 63\n"
     ]
    },
    {
     "name": "stderr",
     "output_type": "stream",
     "text": [
      "/var/folders/kc/t6c9n8gj7mbblj0w7sy3ykwm0000gn/T/ipykernel_17468/3807989780.py:25: FutureWarning: 'H' is deprecated and will be removed in a future version, please use 'h' instead.\n",
      "  df_traffic['hora'] = df_traffic['fecha'].dt.floor('H')\n",
      "Processing groups: 100%|██████████| 43022/43022 [00:05<00:00, 7181.49it/s]\n"
     ]
    },
    {
     "name": "stdout",
     "output_type": "stream",
     "text": [
      "Processed and saved: ../../data/processed/traffic/2023/09-2023_processed.parquet\n",
      "len df before filtering  12926315\n",
      "Unique traffic sensors before filtering: 4547\n",
      "len df after filtering  184044\n",
      "Unique traffic sensors after filtering: 63\n"
     ]
    },
    {
     "name": "stderr",
     "output_type": "stream",
     "text": [
      "/var/folders/kc/t6c9n8gj7mbblj0w7sy3ykwm0000gn/T/ipykernel_17468/3807989780.py:25: FutureWarning: 'H' is deprecated and will be removed in a future version, please use 'h' instead.\n",
      "  df_traffic['hora'] = df_traffic['fecha'].dt.floor('H')\n",
      "Processing groups: 100%|██████████| 46245/46245 [00:06<00:00, 7106.95it/s]\n"
     ]
    },
    {
     "name": "stdout",
     "output_type": "stream",
     "text": [
      "Processed and saved: ../../data/processed/traffic/2023/05-2023_processed.parquet\n",
      "len df before filtering  12438772\n",
      "Unique traffic sensors before filtering: 4541\n",
      "len df after filtering  177990\n",
      "Unique traffic sensors after filtering: 63\n"
     ]
    },
    {
     "name": "stderr",
     "output_type": "stream",
     "text": [
      "/var/folders/kc/t6c9n8gj7mbblj0w7sy3ykwm0000gn/T/ipykernel_17468/3807989780.py:25: FutureWarning: 'H' is deprecated and will be removed in a future version, please use 'h' instead.\n",
      "  df_traffic['hora'] = df_traffic['fecha'].dt.floor('H')\n",
      "Processing groups: 100%|██████████| 44762/44762 [00:06<00:00, 7136.93it/s]\n"
     ]
    },
    {
     "name": "stdout",
     "output_type": "stream",
     "text": [
      "Processed and saved: ../../data/processed/traffic/2023/04-2023_processed.parquet\n",
      "len df before filtering  13224732\n",
      "Unique traffic sensors before filtering: 4659\n",
      "len df after filtering  184660\n",
      "Unique traffic sensors after filtering: 63\n"
     ]
    },
    {
     "name": "stderr",
     "output_type": "stream",
     "text": [
      "/var/folders/kc/t6c9n8gj7mbblj0w7sy3ykwm0000gn/T/ipykernel_17468/3807989780.py:25: FutureWarning: 'H' is deprecated and will be removed in a future version, please use 'h' instead.\n",
      "  df_traffic['hora'] = df_traffic['fecha'].dt.floor('H')\n",
      "Processing groups: 100%|██████████| 46389/46389 [00:06<00:00, 7173.39it/s]\n"
     ]
    },
    {
     "name": "stdout",
     "output_type": "stream",
     "text": [
      "Processed and saved: ../../data/processed/traffic/2023/12-2023_processed.parquet\n",
      "Processing folder: ../../data/raw/traffic/2024\n",
      "len df before filtering  12779019\n",
      "Unique traffic sensors before filtering: 4696\n",
      "len df after filtering  169677\n",
      "Unique traffic sensors after filtering: 62\n"
     ]
    },
    {
     "name": "stderr",
     "output_type": "stream",
     "text": [
      "/var/folders/kc/t6c9n8gj7mbblj0w7sy3ykwm0000gn/T/ipykernel_17468/3807989780.py:25: FutureWarning: 'H' is deprecated and will be removed in a future version, please use 'h' instead.\n",
      "  df_traffic['hora'] = df_traffic['fecha'].dt.floor('H')\n",
      "Processing groups: 100%|██████████| 42694/42694 [00:05<00:00, 7165.20it/s]\n"
     ]
    },
    {
     "name": "stdout",
     "output_type": "stream",
     "text": [
      "Processed and saved: ../../data/processed/traffic/2024/09_2024_processed.parquet\n",
      "len df before filtering  13343452\n",
      "Unique traffic sensors before filtering: 4699\n",
      "len df after filtering  185251\n",
      "Unique traffic sensors after filtering: 63\n"
     ]
    },
    {
     "name": "stderr",
     "output_type": "stream",
     "text": [
      "/var/folders/kc/t6c9n8gj7mbblj0w7sy3ykwm0000gn/T/ipykernel_17468/3807989780.py:25: FutureWarning: 'H' is deprecated and will be removed in a future version, please use 'h' instead.\n",
      "  df_traffic['hora'] = df_traffic['fecha'].dt.floor('H')\n",
      "Processing groups: 100%|██████████| 46552/46552 [00:06<00:00, 7173.18it/s]\n"
     ]
    },
    {
     "name": "stdout",
     "output_type": "stream",
     "text": [
      "Processed and saved: ../../data/processed/traffic/2024/01-2024_processed.parquet\n",
      "len df before filtering  12918338\n",
      "Unique traffic sensors before filtering: 4703\n",
      "len df after filtering  172121\n",
      "Unique traffic sensors after filtering: 62\n"
     ]
    },
    {
     "name": "stderr",
     "output_type": "stream",
     "text": [
      "/var/folders/kc/t6c9n8gj7mbblj0w7sy3ykwm0000gn/T/ipykernel_17468/3807989780.py:25: FutureWarning: 'H' is deprecated and will be removed in a future version, please use 'h' instead.\n",
      "  df_traffic['hora'] = df_traffic['fecha'].dt.floor('H')\n",
      "Processing groups: 100%|██████████| 43654/43654 [00:06<00:00, 7160.31it/s]\n"
     ]
    },
    {
     "name": "stdout",
     "output_type": "stream",
     "text": [
      "Processed and saved: ../../data/processed/traffic/2024/06-2024_processed.parquet\n",
      "len df before filtering  13351339\n",
      "Unique traffic sensors before filtering: 4682\n",
      "len df after filtering  175967\n",
      "Unique traffic sensors after filtering: 62\n"
     ]
    },
    {
     "name": "stderr",
     "output_type": "stream",
     "text": [
      "/var/folders/kc/t6c9n8gj7mbblj0w7sy3ykwm0000gn/T/ipykernel_17468/3807989780.py:25: FutureWarning: 'H' is deprecated and will be removed in a future version, please use 'h' instead.\n",
      "  df_traffic['hora'] = df_traffic['fecha'].dt.floor('H')\n",
      "Processing groups: 100%|██████████| 44657/44657 [00:06<00:00, 7120.54it/s]\n"
     ]
    },
    {
     "name": "stdout",
     "output_type": "stream",
     "text": [
      "Processed and saved: ../../data/processed/traffic/2024/07-2024_processed.parquet\n",
      "len df before filtering  12513169\n",
      "Unique traffic sensors before filtering: 4677\n",
      "len df after filtering  167586\n",
      "Unique traffic sensors after filtering: 62\n"
     ]
    },
    {
     "name": "stderr",
     "output_type": "stream",
     "text": [
      "/var/folders/kc/t6c9n8gj7mbblj0w7sy3ykwm0000gn/T/ipykernel_17468/3807989780.py:25: FutureWarning: 'H' is deprecated and will be removed in a future version, please use 'h' instead.\n",
      "  df_traffic['hora'] = df_traffic['fecha'].dt.floor('H')\n",
      "Processing groups: 100%|██████████| 42114/42114 [00:05<00:00, 7263.65it/s]\n"
     ]
    },
    {
     "name": "stdout",
     "output_type": "stream",
     "text": [
      "Processed and saved: ../../data/processed/traffic/2024/11-2024_processed.parquet\n",
      "len df before filtering  12918900\n",
      "Unique traffic sensors before filtering: 4690\n",
      "len df after filtering  174960\n",
      "Unique traffic sensors after filtering: 62\n"
     ]
    },
    {
     "name": "stderr",
     "output_type": "stream",
     "text": [
      "/var/folders/kc/t6c9n8gj7mbblj0w7sy3ykwm0000gn/T/ipykernel_17468/3807989780.py:25: FutureWarning: 'H' is deprecated and will be removed in a future version, please use 'h' instead.\n",
      "  df_traffic['hora'] = df_traffic['fecha'].dt.floor('H')\n",
      "Processing groups: 100%|██████████| 43989/43989 [00:06<00:00, 7146.06it/s]\n"
     ]
    },
    {
     "name": "stdout",
     "output_type": "stream",
     "text": [
      "Processed and saved: ../../data/processed/traffic/2024/10-2024_processed.parquet\n",
      "len df before filtering  12532935\n",
      "Unique traffic sensors before filtering: 4689\n",
      "len df after filtering  171777\n",
      "Unique traffic sensors after filtering: 63\n"
     ]
    },
    {
     "name": "stderr",
     "output_type": "stream",
     "text": [
      "/var/folders/kc/t6c9n8gj7mbblj0w7sy3ykwm0000gn/T/ipykernel_17468/3807989780.py:25: FutureWarning: 'H' is deprecated and will be removed in a future version, please use 'h' instead.\n",
      "  df_traffic['hora'] = df_traffic['fecha'].dt.floor('H')\n",
      "Processing groups: 100%|██████████| 43287/43287 [00:06<00:00, 7152.12it/s]\n"
     ]
    },
    {
     "name": "stdout",
     "output_type": "stream",
     "text": [
      "Processed and saved: ../../data/processed/traffic/2024/02-2024_processed.parquet\n",
      "len df before filtering  13451928\n",
      "Unique traffic sensors before filtering: 4695\n",
      "len df after filtering  183999\n",
      "Unique traffic sensors after filtering: 63\n"
     ]
    },
    {
     "name": "stderr",
     "output_type": "stream",
     "text": [
      "/var/folders/kc/t6c9n8gj7mbblj0w7sy3ykwm0000gn/T/ipykernel_17468/3807989780.py:25: FutureWarning: 'H' is deprecated and will be removed in a future version, please use 'h' instead.\n",
      "  df_traffic['hora'] = df_traffic['fecha'].dt.floor('H')\n",
      "Processing groups: 100%|██████████| 46300/46300 [00:06<00:00, 7194.27it/s]\n"
     ]
    },
    {
     "name": "stdout",
     "output_type": "stream",
     "text": [
      "Processed and saved: ../../data/processed/traffic/2024/03-2024_processed.parquet\n",
      "len df before filtering  13214710\n",
      "Unique traffic sensors before filtering: 4678\n",
      "len df after filtering  179025\n",
      "Unique traffic sensors after filtering: 62\n"
     ]
    },
    {
     "name": "stderr",
     "output_type": "stream",
     "text": [
      "/var/folders/kc/t6c9n8gj7mbblj0w7sy3ykwm0000gn/T/ipykernel_17468/3807989780.py:25: FutureWarning: 'H' is deprecated and will be removed in a future version, please use 'h' instead.\n",
      "  df_traffic['hora'] = df_traffic['fecha'].dt.floor('H')\n",
      "Processing groups: 100%|██████████| 45486/45486 [00:06<00:00, 7191.88it/s]\n"
     ]
    },
    {
     "name": "stdout",
     "output_type": "stream",
     "text": [
      "Processed and saved: ../../data/processed/traffic/2024/08-2024_processed.parquet\n",
      "len df before filtering  13296461\n",
      "Unique traffic sensors before filtering: 4679\n",
      "len df after filtering  172847\n",
      "Unique traffic sensors after filtering: 60\n"
     ]
    },
    {
     "name": "stderr",
     "output_type": "stream",
     "text": [
      "/var/folders/kc/t6c9n8gj7mbblj0w7sy3ykwm0000gn/T/ipykernel_17468/3807989780.py:25: FutureWarning: 'H' is deprecated and will be removed in a future version, please use 'h' instead.\n",
      "  df_traffic['hora'] = df_traffic['fecha'].dt.floor('H')\n",
      "Processing groups: 100%|██████████| 43381/43381 [00:06<00:00, 7213.89it/s]\n"
     ]
    },
    {
     "name": "stdout",
     "output_type": "stream",
     "text": [
      "Processed and saved: ../../data/processed/traffic/2024/12-2024_processed.parquet\n",
      "len df before filtering  13357035\n",
      "Unique traffic sensors before filtering: 4706\n",
      "len df after filtering  178987\n",
      "Unique traffic sensors after filtering: 62\n"
     ]
    },
    {
     "name": "stderr",
     "output_type": "stream",
     "text": [
      "/var/folders/kc/t6c9n8gj7mbblj0w7sy3ykwm0000gn/T/ipykernel_17468/3807989780.py:25: FutureWarning: 'H' is deprecated and will be removed in a future version, please use 'h' instead.\n",
      "  df_traffic['hora'] = df_traffic['fecha'].dt.floor('H')\n",
      "Processing groups: 100%|██████████| 45406/45406 [00:06<00:00, 7210.62it/s]\n"
     ]
    },
    {
     "name": "stdout",
     "output_type": "stream",
     "text": [
      "Processed and saved: ../../data/processed/traffic/2024/05-2024_processed.parquet\n",
      "len df before filtering  13010780\n",
      "Unique traffic sensors before filtering: 4695\n",
      "len df after filtering  177288\n",
      "Unique traffic sensors after filtering: 63\n"
     ]
    },
    {
     "name": "stderr",
     "output_type": "stream",
     "text": [
      "/var/folders/kc/t6c9n8gj7mbblj0w7sy3ykwm0000gn/T/ipykernel_17468/3807989780.py:25: FutureWarning: 'H' is deprecated and will be removed in a future version, please use 'h' instead.\n",
      "  df_traffic['hora'] = df_traffic['fecha'].dt.floor('H')\n",
      "Processing groups: 100%|██████████| 44749/44749 [00:06<00:00, 7143.69it/s]\n"
     ]
    },
    {
     "name": "stdout",
     "output_type": "stream",
     "text": [
      "Processed and saved: ../../data/processed/traffic/2024/04-2024_processed.parquet\n"
     ]
    }
   ],
   "source": [
    "# Define the root directory\n",
    "root_dir = '../../data/raw/traffic'\n",
    "\n",
    "# Iterate through all year folders\n",
    "for year in range(2019, 2025):\n",
    "    year_folder = os.path.join(root_dir, str(year))\n",
    "    \n",
    "    # Check if the year folder exists\n",
    "    if os.path.isdir(year_folder):\n",
    "        print(f\"Processing folder: {year_folder}\")\n",
    "        \n",
    "        # Iterate through files in the year folder\n",
    "        for file_name in os.listdir(year_folder):\n",
    "            if file_name.endswith('.csv'):  # Ensure it's a CSV file\n",
    "                \n",
    "                \n",
    "                file_path = os.path.join(year_folder, file_name)\n",
    "                \n",
    "                try:\n",
    "                    df = pd.read_csv(file_path, delimiter= \";\")\n",
    "                    \n",
    "                    df = df.rename(columns = {'hora': 'fecha'})\n",
    "                    df['fecha'] = pd.to_datetime(df['fecha'])\n",
    "                        \n",
    "                    # algunos se llaman id y otros identif\n",
    "                    # Rename columns if they exist\n",
    "                    if 'identif' in df.columns:\n",
    "                        df = df.rename(columns={'identif': 'id_trafico'})\n",
    "\n",
    "                    if 'id' in df.columns:\n",
    "                        df = df.rename(columns={'id': 'id_trafico'})\n",
    "                        \n",
    "                    df['id_trafico'] = df['id_trafico'].apply(lambda x: str(int(x)) if str(x).isdigit() else str(x))\n",
    "                    df['id_trafico'] = df['id_trafico'].astype(str)\n",
    "\n",
    "                    print(\"len df before filtering \", len(df))\n",
    "                    print(\"Unique traffic sensors before filtering:\" , df.id_trafico.nunique())\n",
    "\n",
    "                    df = df[df['id_trafico'].isin(filtered_traffic_sensors)]\n",
    "                    \n",
    "                    print(\"len df after filtering \", len(df))\n",
    "                    print(\"Unique traffic sensors after filtering:\" , df.id_trafico.nunique())\n",
    "                    \n",
    "                    if 'S' in df.error.unique():\n",
    "                        print(f\"There are errors in file: {file_name}\")\n",
    "                        print(\"There are a total of \", len(df[df['error'] == 'S']) , \" errors\")\n",
    "                        \n",
    "                        df = corregir_errores(df)\n",
    "                        \n",
    "                    df = process_traffic_data(df)\n",
    "                        \n",
    "                    # Create the new file name\n",
    "                    new_file_name = f\"{file_name[:-4]}_processed.parquet\"\n",
    "                    new_file_path = os.path.join(year_folder, new_file_name)\n",
    "                    new_file_path = new_file_path.replace(\"raw\", \"processed\")\n",
    "                    \n",
    "                    # Create the processed directory if it does not exist\n",
    "                    processed_dir = os.path.dirname(new_file_path)\n",
    "                    os.makedirs(processed_dir, exist_ok=True)\n",
    "\n",
    "                    # Save the processed DataFrame\n",
    "                    df.to_parquet(new_file_path, index=False)\n",
    "                    \n",
    "                    print(f\"Processed and saved: {new_file_path}\")\n",
    "                except Exception as e:\n",
    "                    print(f\"Error processing file {file_name}: {e}\")\n"
   ]
  },
  {
   "cell_type": "code",
   "execution_count": 18,
   "metadata": {},
   "outputs": [
    {
     "name": "stdout",
     "output_type": "stream",
     "text": [
      "11577408\n",
      "147118\n"
     ]
    },
    {
     "name": "stderr",
     "output_type": "stream",
     "text": [
      "/var/folders/kc/t6c9n8gj7mbblj0w7sy3ykwm0000gn/T/ipykernel_15168/1387776518.py:4: FutureWarning: 'H' is deprecated and will be removed in a future version, please use 'h' instead.\n",
      "  df_traffic['hora'] = df_traffic['fecha'].dt.floor('H')\n",
      "Processing groups: 100%|██████████| 37202/37202 [00:04<00:00, 9020.19it/s]\n"
     ]
    },
    {
     "ename": "NameError",
     "evalue": "name 'file_name' is not defined",
     "output_type": "error",
     "traceback": [
      "\u001b[0;31m---------------------------------------------------------------------------\u001b[0m",
      "\u001b[0;31mNameError\u001b[0m                                 Traceback (most recent call last)",
      "Cell \u001b[0;32mIn[18], line 30\u001b[0m\n\u001b[1;32m     27\u001b[0m df \u001b[38;5;241m=\u001b[39m process_traffic_data(df)\n\u001b[1;32m     29\u001b[0m \u001b[38;5;66;03m# Create the new file name\u001b[39;00m\n\u001b[0;32m---> 30\u001b[0m new_file_name \u001b[38;5;241m=\u001b[39m \u001b[38;5;124mf\u001b[39m\u001b[38;5;124m\"\u001b[39m\u001b[38;5;132;01m{\u001b[39;00m\u001b[43mfile_name\u001b[49m[:\u001b[38;5;241m-\u001b[39m\u001b[38;5;241m4\u001b[39m]\u001b[38;5;132;01m}\u001b[39;00m\u001b[38;5;124m_processed.parquet\u001b[39m\u001b[38;5;124m\"\u001b[39m\n\u001b[1;32m     31\u001b[0m new_file_path \u001b[38;5;241m=\u001b[39m os\u001b[38;5;241m.\u001b[39mpath\u001b[38;5;241m.\u001b[39mjoin(year_folder, new_file_name)\n\u001b[1;32m     32\u001b[0m new_file_path \u001b[38;5;241m=\u001b[39m new_file_path\u001b[38;5;241m.\u001b[39mreplace(\u001b[38;5;124m\"\u001b[39m\u001b[38;5;124mraw\u001b[39m\u001b[38;5;124m\"\u001b[39m, \u001b[38;5;124m\"\u001b[39m\u001b[38;5;124mprocessed\u001b[39m\u001b[38;5;124m\"\u001b[39m)\n",
      "\u001b[0;31mNameError\u001b[0m: name 'file_name' is not defined"
     ]
    }
   ],
   "source": [
    "# df = pd.read_csv('../../data/raw/traffic/2020/01-2020.csv', delimiter= \";\")\n",
    "                    \n",
    "# df = df.rename(columns = {'hora': 'fecha'})\n",
    "# df['fecha'] = pd.to_datetime(df['fecha'])\n",
    "\n",
    "#     # algunos se llaman id y otros identif\n",
    "# # Rename columns if they exist\n",
    "# if 'identif' in df.columns:\n",
    "#     df = df.rename(columns={'identif': 'id_trafico'})\n",
    "\n",
    "# if 'id' in df.columns:\n",
    "#     df = df.rename(columns={'id': 'id_trafico'})\n",
    "    \n",
    "# df['id_trafico'] = df['id_trafico'].apply(lambda x: str(int(x)) if str(x).isdigit() else str(x))\n",
    "# df['id_trafico'] = df['id_trafico'].astype(str)\n",
    "\n",
    "# print(len(df))\n",
    "# df = df[df['id_trafico'].isin(filtered_traffic_sensors)]\n",
    "# print(len(df))\n",
    "\n",
    "\n",
    "# if 'S' in df.error.unique():\n",
    "#     print(f\"There are errors in file: {file_name}\")\n",
    "#     print(\"There are a total of \", len(df[df['error'] == 'S']) , \" errors\")\n",
    "    \n",
    "#     df = corregir_errores(df)\n",
    "    \n",
    "# df = process_traffic_data(df)\n",
    "    \n",
    "# # Create the new file name\n",
    "# new_file_name = f\"{file_name[:-4]}_processed.parquet\"\n",
    "# new_file_path = os.path.join(year_folder, new_file_name)\n",
    "# new_file_path = new_file_path.replace(\"raw\", \"processed\")\n",
    "\n",
    "# # Create the processed directory if it does not exist\n",
    "# processed_dir = os.path.dirname(new_file_path)\n",
    "# os.makedirs(processed_dir, exist_ok=True)\n",
    "\n",
    "# # Save the processed DataFrame\n",
    "# df.to_parquet(new_file_path, index=False)\n",
    "\n",
    "# print(f\"Processed and saved: {new_file_path}\")"
   ]
  },
  {
   "cell_type": "code",
   "execution_count": 36,
   "metadata": {},
   "outputs": [
    {
     "name": "stdout",
     "output_type": "stream",
     "text": [
      "UTM X: 558293.961, UTM Y: -4475769.104, Zona: 31\n"
     ]
    }
   ],
   "source": [
    "from pyproj import Proj, Transformer\n",
    "\n",
    "def latlon_to_utm(lat, lon):\n",
    "    \"\"\"\n",
    "    Convierte coordenadas de latitud y longitud a coordenadas UTM (X, Y).\n",
    "    \n",
    "    Parámetros:\n",
    "    - lat: Latitud en grados decimales.\n",
    "    - lon: Longitud en grados decimales.\n",
    "    \n",
    "    Retorna:\n",
    "    - utm_x: Coordenada X en UTM.\n",
    "    - utm_y: Coordenada Y en UTM.\n",
    "    - zona_utm: Número de la zona UTM.\n",
    "    \"\"\"\n",
    "    # Determinar la zona UTM según la longitud\n",
    "    zona_utm = int((lon + 180) / 6) + 1\n",
    "    \n",
    "    # Definir el sistema de referencia UTM correspondiente\n",
    "    utm_proj = Proj(proj=\"utm\", zone=zona_utm, ellps=\"WGS84\", datum=\"WGS84\", south=False)\n",
    "    \n",
    "    # Transformar coordenadas geográficas (lat, lon) a UTM (X, Y)\n",
    "    utm_x, utm_y = utm_proj(lon, lat)\n",
    "    \n",
    "    return round(utm_x,3), round(utm_y,3), zona_utm\n",
    "\n",
    "# Ejemplo de uso\n",
    "\t\n",
    "\n",
    "lat, lon = -40.4305187, 3.687254201\t\n",
    "utm_x, utm_y, zona = latlon_to_utm(lat, lon)\n",
    "\n",
    "print(f\"UTM X: {round(utm_x,4)}, UTM Y: {round(utm_y,4)}, Zona: {zona}\")\n"
   ]
  },
  {
   "cell_type": "code",
   "execution_count": 34,
   "metadata": {},
   "outputs": [
    {
     "data": {
      "text/plain": [
       "(-40.4305, 3.6873)"
      ]
     },
     "execution_count": 34,
     "metadata": {},
     "output_type": "execute_result"
    }
   ],
   "source": [
    "round(-40.4305187, 4), round(3.68725420,4)"
   ]
  },
  {
   "cell_type": "code",
   "execution_count": 33,
   "metadata": {},
   "outputs": [
    {
     "data": {
      "text/plain": [
       "(40.4305, -3.6873)"
      ]
     },
     "execution_count": 33,
     "metadata": {},
     "output_type": "execute_result"
    }
   ],
   "source": [
    "round(lat,4), round(lon,4)"
   ]
  },
  {
   "cell_type": "code",
   "execution_count": 31,
   "metadata": {},
   "outputs": [
    {
     "name": "stdout",
     "output_type": "stream",
     "text": [
      "Latitud: 40.43052393961246, Longitud: -3.687256103050413\n"
     ]
    }
   ],
   "source": [
    "from pyproj import Proj, Transformer\n",
    "\n",
    "def utm_to_latlon(utm_x, utm_y, zona_utm):\n",
    "    \"\"\"\n",
    "    Convierte coordenadas UTM (X, Y) a latitud y longitud en España (Hemisferio Norte).\n",
    "    \n",
    "    Parámetros:\n",
    "    - utm_x: Coordenada X en UTM.\n",
    "    - utm_y: Coordenada Y en UTM.\n",
    "    - zona_utm: Número de la zona UTM (España está en 29, 30 o 31).\n",
    "    \n",
    "    Retorna:\n",
    "    - lat: Latitud en grados decimales.\n",
    "    - lon: Longitud en grados decimales.\n",
    "    \"\"\"\n",
    "    # Definir el sistema de referencia UTM correspondiente (siempre en el hemisferio norte)\n",
    "    utm_proj = Proj(proj=\"utm\", zone=zona_utm, ellps=\"WGS84\", datum=\"WGS84\", south=False)\n",
    "    \n",
    "    # Invertir la transformación de UTM a lat/lon\n",
    "    lon, lat = utm_proj(utm_x, utm_y, inverse=True)\n",
    "    \n",
    "    return lat, lon\n",
    "\n",
    "# Ejemplo de uso\n",
    "\n",
    "utm_x, utm_y, zona = 441705.882339595, 4475769.68733175, 30\n",
    "lat, lon = utm_to_latlon(utm_x, utm_y, zona)\n",
    "\n",
    "print(f\"Latitud: {lat}, Longitud: {lon}\")\n"
   ]
  },
  {
   "cell_type": "code",
   "execution_count": 32,
   "metadata": {},
   "outputs": [
    {
     "data": {
      "text/plain": [
       "(40.4305, -3.6873)"
      ]
     },
     "execution_count": 32,
     "metadata": {},
     "output_type": "execute_result"
    }
   ],
   "source": []
  },
  {
   "cell_type": "code",
   "execution_count": null,
   "metadata": {},
   "outputs": [],
   "source": []
  }
 ],
 "metadata": {
  "kernelspec": {
   "display_name": "master_thesis",
   "language": "python",
   "name": "python3"
  },
  "language_info": {
   "codemirror_mode": {
    "name": "ipython",
    "version": 3
   },
   "file_extension": ".py",
   "mimetype": "text/x-python",
   "name": "python",
   "nbconvert_exporter": "python",
   "pygments_lexer": "ipython3",
   "version": "3.12.8"
  }
 },
 "nbformat": 4,
 "nbformat_minor": 2
}
